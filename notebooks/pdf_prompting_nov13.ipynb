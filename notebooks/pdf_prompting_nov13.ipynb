{
 "cells": [
  {
   "cell_type": "markdown",
   "metadata": {},
   "source": [
    "**In this Notebook we extract the remaining SubScore Labels**"
   ]
  },
  {
   "cell_type": "code",
   "execution_count": null,
   "metadata": {},
   "outputs": [],
   "source": [
    "from langchain_ollama import OllamaLLM\n",
    "from tqdm import tqdm\n",
    "\n",
    "import json\n",
    "import numpy as np\n",
    "import os\n",
    "import pandas as pd\n",
    "import re"
   ]
  },
  {
   "cell_type": "markdown",
   "metadata": {},
   "source": [
    "**Code to extract unique score combinations**"
   ]
  },
  {
   "cell_type": "code",
   "execution_count": null,
   "metadata": {},
   "outputs": [],
   "source": [
    "!pip install --upgrade numpy"
   ]
  },
  {
   "cell_type": "code",
   "execution_count": null,
   "metadata": {},
   "outputs": [],
   "source": [
    "rms_with_fundamental_score = pd.read_pickle('./rms_with_fundamental_score.pkl')\n",
    "rms_with_fundamental_score.head(1)"
   ]
  },
  {
   "cell_type": "code",
   "execution_count": null,
   "metadata": {},
   "outputs": [],
   "source": [
    "unique_score_combinations = rms_with_fundamental_score[['CategoryGroup', 'Category', 'TaggedCharacteristics']].drop_duplicates()\n",
    "# Replace all types of newlines and excessive whitespace in TaggedCharacteristics\n",
    "unique_score_combinations['TaggedCharacteristics'] = unique_score_combinations['TaggedCharacteristics'].str.replace(r'[\\r\\n]+', ' ', regex=True)\n",
    "\n",
    "# Function to expand TaggedCharacteristics if it's a JSON string with multiple items\n",
    "def expand_tagged_characteristics(row):\n",
    "    try:\n",
    "        characteristics = json.loads(row['TaggedCharacteristics'])\n",
    "        if isinstance(characteristics, list):\n",
    "            # Replace newlines within each CharacteristicText\n",
    "            return pd.DataFrame([{\n",
    "                'CategoryGroup': row['CategoryGroup'],\n",
    "                'Category': row['Category'],\n",
    "                'TaggedCharacteristics': char['CharacteristicText'].replace('\\r', ' ').replace('\\n', ' '),\n",
    "                'CharacteristicInfluence': char.get('CharacteristicInfluence', None)  # Handle missing keys\n",
    "            } for char in characteristics])\n",
    "        else:\n",
    "            # If it's a single item or not a list, replace newlines if it's a string\n",
    "            if isinstance(characteristics, str):\n",
    "                characteristics = characteristics.replace('\\r', ' ').replace('\\n', ' ')\n",
    "            return pd.DataFrame([{\n",
    "                'CategoryGroup': row['CategoryGroup'],\n",
    "                'Category': row['Category'],\n",
    "                'TaggedCharacteristics': characteristics,\n",
    "                'CharacteristicInfluence': row.get('CharacteristicInfluence', None)\n",
    "            }])\n",
    "    except (json.JSONDecodeError, TypeError):\n",
    "        # If parsing fails, replace newlines in the original TaggedCharacteristics\n",
    "        cleaned_text = row['TaggedCharacteristics'].replace('\\r', ' ').replace('\\n', ' ')\n",
    "        return pd.DataFrame([{\n",
    "            'CategoryGroup': row['CategoryGroup'],\n",
    "            'Category': row['Category'],\n",
    "            'TaggedCharacteristics': cleaned_text,\n",
    "            'CharacteristicInfluence': row.get('CharacteristicInfluence', None)\n",
    "        }])\n",
    "\n",
    "# Applying the function to each row and combining results\n",
    "expanded_unique_score_combinations = pd.concat(\n",
    "    unique_score_combinations.apply(expand_tagged_characteristics, axis=1).to_list(),\n",
    "    ignore_index=True\n",
    ")\n",
    "\n",
    "# Sort, drop duplicates, and save to CSV\n",
    "unique_score_combinations = expanded_unique_score_combinations.sort_values(by=['CategoryGroup', 'Category', 'CharacteristicInfluence']).drop_duplicates()\n",
    "unique_score_combinations.to_csv('unique_score_combinations.csv', index=False)"
   ]
  },
  {
   "cell_type": "markdown",
   "metadata": {},
   "source": [
    "**Defining the questions and instantiating the LLM**"
   ]
  },
  {
   "cell_type": "code",
   "execution_count": 11,
   "metadata": {},
   "outputs": [],
   "source": [
    "# Define the questions corresponding to each column\n",
    "questions_market_dynamics = {\n",
    "    \"Market Dynamics - a\": \"Does the text mention that the company is exposed to risks associated with cyclical products?\",\n",
    "    \"Market Dynamics - b\": \"Does the text mention risks related to demographic or structural trends affecting the market?\",\n",
    "    \"Market Dynamics - c\": \"Does the text mention risks due to seasonal volatility in the industry?\"\n",
    "}\n",
    "questions_intra_industry_competition = {\n",
    "    \"Intra-Industry Competition - a\": \"Does the text mention that market pricing for the company's products or services is irrational or not based on fundamental factors?\",\n",
    "    \"Intra-Industry Competition - b\": \"Does the text mention that the market is highly fragmented with no clear leader or that there is only one dominant leader?\",\n",
    "    \"Intra-Industry Competition - c\": \"Does the text mention low barriers to entry in the industry, making it easy for new competitors to enter the market?\"\n",
    "}\n",
    "questions_regulatory_framework = {\n",
    "    \"Regulatory Framework - a\": \"Does the text mention that the industry is subject to a high degree of regulatory scrutiny?\",\n",
    "    \"Regulatory Framework - b\": \"Does the text mention a high dependency on regulation or being a beneficiary from regulation in an unstable regulatory environment?\"\n",
    "}\n",
    "questions_technology_risk = {\n",
    "    \"Technology Risk - a\": \"Does the text mention that the industry is susceptible to rapid technological advances or innovations?\",\n",
    "    \"Technology Risk - b\": \"Does the text mention that the company is perceived as a disruptor or is threatened by emerging technological changes?\"\n",
    "}\n",
    "\n",
    "all_question_dicts = [\n",
    "    questions_market_dynamics,\n",
    "    questions_intra_industry_competition,\n",
    "    questions_regulatory_framework,\n",
    "    questions_technology_risk\n",
    "]\n",
    "\n",
    "# Original questions\n",
    "questions_market_dynamics_original = {\n",
    "    \"Market Dynamics - a\": \"Exposure to cyclical products\",\n",
    "    \"Market Dynamics - b\": \"Impact of demographic and structural trends\",\n",
    "    \"Market Dynamics - c\": \"Seasonal industry volatility\"\n",
    "}\n",
    "questions_intra_industry_competition_original = {\n",
    "    \"Intra-Industry Competition - a\": \"Market pricing has not shown to be rational\",\n",
    "    \"Intra-Industry Competition - b\": \"Highly fragmented market with no clear leader or only one leader\",\n",
    "    \"Intra-Industry Competition - c\": \"Low barriers to entry\"\n",
    "}\n",
    "questions_regulatory_framework_original = {\n",
    "    \"Regulatory Framework - a\": \"Industry has high degree of regulatory scrutiny\",\n",
    "    \"Regulatory Framework - b\": \"High dependency on regulation or is a beneficiary from regulation in an unstable regulatory environment\"\n",
    "}\n",
    "questions_technology_risk_original = {\n",
    "    \"Technology Risk - a\": \"Industry susceptibility to technological advances\",\n",
    "    \"Technology Risk - b\": \"Company viewed as a disruptee/threatened by technological change\"\n",
    "}\n"
   ]
  },
  {
   "cell_type": "code",
   "execution_count": 12,
   "metadata": {},
   "outputs": [
    {
     "data": {
      "text/html": [
       "<div>\n",
       "<style scoped>\n",
       "    .dataframe tbody tr th:only-of-type {\n",
       "        vertical-align: middle;\n",
       "    }\n",
       "\n",
       "    .dataframe tbody tr th {\n",
       "        vertical-align: top;\n",
       "    }\n",
       "\n",
       "    .dataframe thead th {\n",
       "        text-align: right;\n",
       "    }\n",
       "</style>\n",
       "<table border=\"1\" class=\"dataframe\">\n",
       "  <thead>\n",
       "    <tr style=\"text-align: right;\">\n",
       "      <th></th>\n",
       "      <th>Prospectus ID</th>\n",
       "      <th>Original Filename</th>\n",
       "      <th>Section ID</th>\n",
       "      <th>Section Title</th>\n",
       "      <th>Subsection ID</th>\n",
       "      <th>Subsection Title</th>\n",
       "      <th>Subsubsection ID</th>\n",
       "      <th>Subsubsection Title</th>\n",
       "      <th>Subsubsection Text</th>\n",
       "      <th>Market Dynamics - a</th>\n",
       "      <th>Market Dynamics - b</th>\n",
       "      <th>Market Dynamics - c</th>\n",
       "      <th>Parsing Error</th>\n",
       "      <th>Intra-Industry Competition - a</th>\n",
       "      <th>Intra-Industry Competition - b</th>\n",
       "      <th>Intra-Industry Competition - c</th>\n",
       "      <th>Regulatory Framework - a</th>\n",
       "      <th>Regulatory Framework - b</th>\n",
       "      <th>Technology Risk - a</th>\n",
       "      <th>Technology Risk - b</th>\n",
       "    </tr>\n",
       "  </thead>\n",
       "  <tbody>\n",
       "    <tr>\n",
       "      <th>0</th>\n",
       "      <td>235</td>\n",
       "      <td>Final Offerings 2020.pdf</td>\n",
       "      <td>1</td>\n",
       "      <td>RISK FACTORS</td>\n",
       "      <td>1.1</td>\n",
       "      <td>NaN</td>\n",
       "      <td>1.1.1</td>\n",
       "      <td>NaN</td>\n",
       "      <td>_An investment in the Notes involves a high de...</td>\n",
       "      <td>Not Relevant</td>\n",
       "      <td>Highly Relevant: the risks described below</td>\n",
       "      <td>Not Relevant</td>\n",
       "      <td>NaN</td>\n",
       "      <td>Not Relevant</td>\n",
       "      <td>Not Relevant</td>\n",
       "      <td>Not Relevant</td>\n",
       "      <td>Highly Relevant: Subsubsection Title: ... and ...</td>\n",
       "      <td>Highly Relevant</td>\n",
       "      <td>Not Relevant</td>\n",
       "      <td>Not Relevant</td>\n",
       "    </tr>\n",
       "    <tr>\n",
       "      <th>1</th>\n",
       "      <td>16</td>\n",
       "      <td>Final Offerings 2020.pdf</td>\n",
       "      <td>1</td>\n",
       "      <td>RISK FACTORS</td>\n",
       "      <td>1.1</td>\n",
       "      <td>Risks Relating to the Group’s Business, Techno...</td>\n",
       "      <td>1.1.1</td>\n",
       "      <td>The Group faces significant competition in eac...</td>\n",
       "      <td>The French telecommunications market is a matu...</td>\n",
       "      <td>Highly Relevant: Various evidence throughout t...</td>\n",
       "      <td>Highly Relevant</td>\n",
       "      <td>Highly Relevant</td>\n",
       "      <td>NaN</td>\n",
       "      <td>Highly Relevant</td>\n",
       "      <td>Highly Relevant: ...the Group also competes wi...</td>\n",
       "      <td>Highly Relevant: The exact phrases or sentence...</td>\n",
       "      <td>Highly Relevant: Several evidence are presente...</td>\n",
       "      <td>Highly Relevant</td>\n",
       "      <td>Highly Relevant: This is a highly relevant ans...</td>\n",
       "      <td>Highly Relevant: The Group also faces competit...</td>\n",
       "    </tr>\n",
       "  </tbody>\n",
       "</table>\n",
       "</div>"
      ],
      "text/plain": [
       "  Prospectus ID         Original Filename  Section ID Section Title  \\\n",
       "0           235  Final Offerings 2020.pdf           1  RISK FACTORS   \n",
       "1            16  Final Offerings 2020.pdf           1  RISK FACTORS   \n",
       "\n",
       "   Subsection ID                                   Subsection Title  \\\n",
       "0            1.1                                                NaN   \n",
       "1            1.1  Risks Relating to the Group’s Business, Techno...   \n",
       "\n",
       "  Subsubsection ID                                Subsubsection Title  \\\n",
       "0            1.1.1                                                NaN   \n",
       "1            1.1.1  The Group faces significant competition in eac...   \n",
       "\n",
       "                                  Subsubsection Text  \\\n",
       "0  _An investment in the Notes involves a high de...   \n",
       "1  The French telecommunications market is a matu...   \n",
       "\n",
       "                                 Market Dynamics - a  \\\n",
       "0                                       Not Relevant   \n",
       "1  Highly Relevant: Various evidence throughout t...   \n",
       "\n",
       "                          Market Dynamics - b Market Dynamics - c  \\\n",
       "0  Highly Relevant: the risks described below        Not Relevant   \n",
       "1                             Highly Relevant     Highly Relevant   \n",
       "\n",
       "   Parsing Error Intra-Industry Competition - a  \\\n",
       "0            NaN                   Not Relevant   \n",
       "1            NaN                Highly Relevant   \n",
       "\n",
       "                      Intra-Industry Competition - b  \\\n",
       "0                                       Not Relevant   \n",
       "1  Highly Relevant: ...the Group also competes wi...   \n",
       "\n",
       "                      Intra-Industry Competition - c  \\\n",
       "0                                       Not Relevant   \n",
       "1  Highly Relevant: The exact phrases or sentence...   \n",
       "\n",
       "                            Regulatory Framework - a Regulatory Framework - b  \\\n",
       "0  Highly Relevant: Subsubsection Title: ... and ...          Highly Relevant   \n",
       "1  Highly Relevant: Several evidence are presente...          Highly Relevant   \n",
       "\n",
       "                                 Technology Risk - a  \\\n",
       "0                                       Not Relevant   \n",
       "1  Highly Relevant: This is a highly relevant ans...   \n",
       "\n",
       "                                 Technology Risk - b  \n",
       "0                                       Not Relevant  \n",
       "1  Highly Relevant: The Group also faces competit...  "
      ]
     },
     "execution_count": 12,
     "metadata": {},
     "output_type": "execute_result"
    }
   ],
   "source": [
    "# Initialize the language model\n",
    "llm = OllamaLLM(model=\"llama3.2\")\n",
    "\n",
    "# Check if the processed file exists; if not, process the raw data\n",
    "processed_file_path = '../data/prospectuses_data_processed.csv'\n",
    "raw_file_path = '../data/prospectuses_data.csv'\n",
    "\n",
    "# Check if processed file exists\n",
    "if os.path.exists(processed_file_path):\n",
    "    df = pd.read_csv(processed_file_path)\n",
    "else:\n",
    "    print(\"Processed file not found. Processing raw data...\")\n",
    "    df = pd.read_csv(raw_file_path)\n",
    "    # Filter out rows that have \"failed parsing\" in the Section ID column\n",
    "    df = df[df['Section ID'] != \"failed parsing\"]\n",
    "\n",
    "# Ensure the relevance and evidence columns are created with a compatible data type\n",
    "for question_dict in all_question_dicts:\n",
    "    # Iterate through each question key in the current dictionary\n",
    "    for column_name in question_dict.keys():\n",
    "        if column_name in df.columns:\n",
    "            df[column_name] = df[column_name].astype('string')\n",
    "        else:\n",
    "            df[column_name] = \"\"\n",
    "\n",
    "df.head(2)\n",
    "# print(df.shape)"
   ]
  },
  {
   "cell_type": "code",
   "execution_count": 13,
   "metadata": {},
   "outputs": [],
   "source": [
    "def extract_fields(response):\n",
    "    # Remove any newlines and extra spaces\n",
    "    response = ' '.join(response.strip().split())\n",
    "\n",
    "    # Extract the Relevance field\n",
    "    relevance_match = re.search(r'\"Relevance\"\\s*:\\s*\"([^\"]+)\"', response)\n",
    "    if relevance_match:\n",
    "        relevance = relevance_match.group(1).strip()\n",
    "    else:\n",
    "        relevance = \"Parsing Error\"\n",
    "\n",
    "    # Extract the Evidence field(s)\n",
    "    evidence_match = re.search(r'\"Evidence\"\\s*:\\s*(.+?)(?:,?\\s*\"[^\"]+\"\\s*:|\\s*}$)', response)\n",
    "    if evidence_match:\n",
    "        evidence_str = evidence_match.group(1).strip()\n",
    "        # Remove any trailing commas or braces\n",
    "        evidence_str = evidence_str.rstrip(', }')\n",
    "        # Split the evidence_str into individual evidence items\n",
    "        # Evidence items are strings enclosed in double quotes\n",
    "        evidence_items = re.findall(r'\"([^\"]+)\"', evidence_str)\n",
    "        evidence = evidence_items\n",
    "    else:\n",
    "        evidence = []\n",
    "\n",
    "    return relevance, evidence\n",
    "\n",
    "\n",
    "def analyze_prospectus_row_single_question(row, question):\n",
    "    # System and user prompts\n",
    "    system_prompt = \"You are an expert in analyzing bond prospectuses and identifying specific risk factors.\"\n",
    "\n",
    "    # Format the user prompt using the row's data\n",
    "    prompt = f\"\"\"\n",
    "{system_prompt}\n",
    "\n",
    "For the following question and text, judge whether the text is \"Highly Relevant\", \"Somewhat Relevant\", or \"Not Relevant\".\n",
    "\n",
    "Question:\n",
    "{question}\n",
    "\n",
    "Text:\n",
    "Subsubsection Title: {row['Subsubsection Title']}\n",
    "Subsubsection Text: {row['Subsubsection Text']}\n",
    "\n",
    "\n",
    "Please provide your answer in the following JSON format:\n",
    "\n",
    "{{\n",
    "  \"Relevance\": \"Highly Relevant\", \"Somewhat Relevant\", or \"Not Relevant\",\n",
    "  \"Evidence\": \"The exact phrases or sentences from the document that support your assessment; otherwise, leave blank.\"\n",
    "}}\n",
    "\n",
    "Note: Only provide the JSON response without any additional text.\n",
    "\"\"\"\n",
    "    # Run the prompt through the model\n",
    "    response = llm.invoke(input=prompt)\n",
    "\n",
    "    # Parse the response\n",
    "    try:\n",
    "        # Extract the Relevance and Evidence fields\n",
    "        relevance, evidence_list = extract_fields(response)\n",
    "        # Join multiple evidence items into a single string\n",
    "        evidence = '; '.join(evidence_list)\n",
    "    except Exception as e:\n",
    "        relevance = \"Parsing Error\"\n",
    "        evidence = \"\"\n",
    "\n",
    "    # Combine relevance and evidence\n",
    "    if relevance in [\"Highly Relevant\", \"Somewhat Relevant\"] and evidence:\n",
    "        combined_answer = f\"{relevance}: {evidence}\"\n",
    "    elif relevance in [\"Highly Relevant\", \"Somewhat Relevant\"]:\n",
    "        combined_answer = relevance\n",
    "    elif relevance == \"Not Relevant\":\n",
    "        combined_answer = \"Not Relevant\"\n",
    "    else:\n",
    "        combined_answer = \"Parsing Error\"\n",
    "\n",
    "    # For debugging\n",
    "    if combined_answer == \"Parsing Error\":\n",
    "        print(\"Parsing Error encountered. Response was:\")\n",
    "        print(response)\n",
    "\n",
    "    return combined_answer"
   ]
  },
  {
   "cell_type": "markdown",
   "metadata": {},
   "source": [
    "**Run the LLM Processing**"
   ]
  },
  {
   "cell_type": "code",
   "execution_count": 17,
   "metadata": {},
   "outputs": [
    {
     "name": "stderr",
     "output_type": "stream",
     "text": [
      "Processing Rows:  10%|▉         | 760/7952 [03:22<12:14:19,  6.13s/it]"
     ]
    },
    {
     "name": "stdout",
     "output_type": "stream",
     "text": [
      "Processed 10 new rows. Pausing for 30 seconds.\n"
     ]
    },
    {
     "name": "stderr",
     "output_type": "stream",
     "text": [
      "Processing Rows:  10%|▉         | 770/7952 [06:34<27:05:56, 13.58s/it]"
     ]
    },
    {
     "name": "stdout",
     "output_type": "stream",
     "text": [
      "Processed 10 new rows. Pausing for 30 seconds.\n"
     ]
    },
    {
     "name": "stderr",
     "output_type": "stream",
     "text": [
      "Processing Rows:  10%|▉         | 780/7952 [10:17<37:40:45, 18.91s/it]"
     ]
    },
    {
     "name": "stdout",
     "output_type": "stream",
     "text": [
      "Processed 10 new rows. Pausing for 30 seconds.\n"
     ]
    },
    {
     "name": "stderr",
     "output_type": "stream",
     "text": [
      "Processing Rows:  10%|▉         | 790/7952 [13:45<39:32:24, 19.87s/it]"
     ]
    },
    {
     "name": "stdout",
     "output_type": "stream",
     "text": [
      "Processed 10 new rows. Pausing for 30 seconds.\n"
     ]
    },
    {
     "name": "stderr",
     "output_type": "stream",
     "text": [
      "Processing Rows:  10%|█         | 800/7952 [17:36<35:24:58, 17.83s/it]"
     ]
    },
    {
     "name": "stdout",
     "output_type": "stream",
     "text": [
      "Processed 10 new rows. Pausing for 30 seconds.\n"
     ]
    },
    {
     "name": "stderr",
     "output_type": "stream",
     "text": [
      "Processing Rows:  10%|█         | 810/7952 [20:11<28:40:52, 14.46s/it]"
     ]
    },
    {
     "name": "stdout",
     "output_type": "stream",
     "text": [
      "Processed 10 new rows. Pausing for 30 seconds.\n"
     ]
    },
    {
     "name": "stderr",
     "output_type": "stream",
     "text": [
      "Processing Rows:  10%|█         | 820/7952 [23:37<32:52:51, 16.60s/it]"
     ]
    },
    {
     "name": "stdout",
     "output_type": "stream",
     "text": [
      "Processed 10 new rows. Pausing for 30 seconds.\n"
     ]
    },
    {
     "name": "stderr",
     "output_type": "stream",
     "text": [
      "Processing Rows:  10%|█         | 830/7952 [26:25<31:26:50, 15.90s/it]"
     ]
    },
    {
     "name": "stdout",
     "output_type": "stream",
     "text": [
      "Processed 10 new rows. Pausing for 30 seconds.\n"
     ]
    },
    {
     "name": "stderr",
     "output_type": "stream",
     "text": [
      "Processing Rows:  11%|█         | 840/7952 [29:24<29:52:05, 15.12s/it]"
     ]
    },
    {
     "name": "stdout",
     "output_type": "stream",
     "text": [
      "Processed 10 new rows. Pausing for 30 seconds.\n"
     ]
    },
    {
     "name": "stderr",
     "output_type": "stream",
     "text": [
      "Processing Rows:  11%|█         | 850/7952 [32:15<25:43:28, 13.04s/it]"
     ]
    },
    {
     "name": "stdout",
     "output_type": "stream",
     "text": [
      "Processed 10 new rows. Pausing for 30 seconds.\n"
     ]
    },
    {
     "name": "stderr",
     "output_type": "stream",
     "text": [
      "Processing Rows:  11%|█         | 860/7952 [34:41<28:04:20, 14.25s/it]"
     ]
    },
    {
     "name": "stdout",
     "output_type": "stream",
     "text": [
      "Processed 10 new rows. Pausing for 30 seconds.\n"
     ]
    },
    {
     "name": "stderr",
     "output_type": "stream",
     "text": [
      "Processing Rows:  11%|█         | 870/7952 [37:26<28:31:41, 14.50s/it]"
     ]
    },
    {
     "name": "stdout",
     "output_type": "stream",
     "text": [
      "Processed 10 new rows. Pausing for 30 seconds.\n"
     ]
    },
    {
     "name": "stderr",
     "output_type": "stream",
     "text": [
      "Processing Rows:  11%|█         | 880/7952 [40:02<30:19:17, 15.44s/it]"
     ]
    },
    {
     "name": "stdout",
     "output_type": "stream",
     "text": [
      "Processed 10 new rows. Pausing for 30 seconds.\n"
     ]
    },
    {
     "name": "stderr",
     "output_type": "stream",
     "text": [
      "Processing Rows:  11%|█         | 890/7952 [42:36<25:00:31, 12.75s/it]"
     ]
    },
    {
     "name": "stdout",
     "output_type": "stream",
     "text": [
      "Processed 10 new rows. Pausing for 30 seconds.\n"
     ]
    },
    {
     "name": "stderr",
     "output_type": "stream",
     "text": [
      "Processing Rows:  11%|█▏        | 900/7952 [46:52<44:35:20, 22.76s/it]"
     ]
    },
    {
     "name": "stdout",
     "output_type": "stream",
     "text": [
      "Processed 10 new rows. Pausing for 30 seconds.\n"
     ]
    },
    {
     "name": "stderr",
     "output_type": "stream",
     "text": [
      "Processing Rows:  11%|█▏        | 910/7952 [49:39<24:28:47, 12.51s/it]"
     ]
    },
    {
     "name": "stdout",
     "output_type": "stream",
     "text": [
      "Processed 10 new rows. Pausing for 30 seconds.\n"
     ]
    },
    {
     "name": "stderr",
     "output_type": "stream",
     "text": [
      "Processing Rows:  12%|█▏        | 920/7952 [52:35<35:41:34, 18.27s/it]"
     ]
    },
    {
     "name": "stdout",
     "output_type": "stream",
     "text": [
      "Processed 10 new rows. Pausing for 30 seconds.\n"
     ]
    },
    {
     "name": "stderr",
     "output_type": "stream",
     "text": [
      "Processing Rows:  12%|█▏        | 930/7952 [55:39<29:58:07, 15.36s/it]"
     ]
    },
    {
     "name": "stdout",
     "output_type": "stream",
     "text": [
      "Processed 10 new rows. Pausing for 30 seconds.\n"
     ]
    },
    {
     "name": "stderr",
     "output_type": "stream",
     "text": [
      "Processing Rows:  12%|█▏        | 940/7952 [59:28<37:25:35, 19.22s/it]"
     ]
    },
    {
     "name": "stdout",
     "output_type": "stream",
     "text": [
      "Processed 10 new rows. Pausing for 30 seconds.\n"
     ]
    },
    {
     "name": "stderr",
     "output_type": "stream",
     "text": [
      "Processing Rows:  12%|█▏        | 950/7952 [1:02:53<32:09:03, 16.53s/it]"
     ]
    },
    {
     "name": "stdout",
     "output_type": "stream",
     "text": [
      "Processed 10 new rows. Pausing for 30 seconds.\n"
     ]
    },
    {
     "name": "stderr",
     "output_type": "stream",
     "text": [
      "Processing Rows:  12%|█▏        | 960/7952 [1:07:15<68:18:23, 35.17s/it]"
     ]
    },
    {
     "name": "stdout",
     "output_type": "stream",
     "text": [
      "Processed 10 new rows. Pausing for 30 seconds.\n"
     ]
    },
    {
     "name": "stderr",
     "output_type": "stream",
     "text": [
      "Processing Rows:  12%|█▏        | 970/7952 [1:11:44<55:33:04, 28.64s/it]"
     ]
    },
    {
     "name": "stdout",
     "output_type": "stream",
     "text": [
      "Processed 10 new rows. Pausing for 30 seconds.\n"
     ]
    },
    {
     "name": "stderr",
     "output_type": "stream",
     "text": [
      "Processing Rows:  12%|█▏        | 980/7952 [1:15:44<30:16:38, 15.63s/it]"
     ]
    },
    {
     "name": "stdout",
     "output_type": "stream",
     "text": [
      "Processed 10 new rows. Pausing for 30 seconds.\n"
     ]
    },
    {
     "name": "stderr",
     "output_type": "stream",
     "text": [
      "Processing Rows:  12%|█▏        | 990/7952 [1:20:23<49:26:48, 25.57s/it]"
     ]
    },
    {
     "name": "stdout",
     "output_type": "stream",
     "text": [
      "Processed 10 new rows. Pausing for 30 seconds.\n"
     ]
    },
    {
     "name": "stderr",
     "output_type": "stream",
     "text": [
      "Processing Rows:  13%|█▎        | 1000/7952 [1:23:24<33:06:04, 17.14s/it]"
     ]
    },
    {
     "name": "stdout",
     "output_type": "stream",
     "text": [
      "Processed 10 new rows. Pausing for 30 seconds.\n"
     ]
    },
    {
     "name": "stderr",
     "output_type": "stream",
     "text": [
      "Processing Rows:  13%|█▎        | 1010/7952 [1:27:59<50:44:44, 26.32s/it]"
     ]
    },
    {
     "name": "stdout",
     "output_type": "stream",
     "text": [
      "Processed 10 new rows. Pausing for 30 seconds.\n"
     ]
    },
    {
     "name": "stderr",
     "output_type": "stream",
     "text": [
      "Processing Rows:  13%|█▎        | 1020/7952 [1:31:43<33:53:38, 17.60s/it]"
     ]
    },
    {
     "name": "stdout",
     "output_type": "stream",
     "text": [
      "Processed 10 new rows. Pausing for 30 seconds.\n"
     ]
    },
    {
     "name": "stderr",
     "output_type": "stream",
     "text": [
      "Processing Rows:  13%|█▎        | 1030/7952 [1:35:53<36:45:03, 19.11s/it]"
     ]
    },
    {
     "name": "stdout",
     "output_type": "stream",
     "text": [
      "Processed 10 new rows. Pausing for 30 seconds.\n"
     ]
    },
    {
     "name": "stderr",
     "output_type": "stream",
     "text": [
      "Processing Rows:  13%|█▎        | 1040/7952 [1:39:37<46:47:00, 24.37s/it]"
     ]
    },
    {
     "name": "stdout",
     "output_type": "stream",
     "text": [
      "Processed 10 new rows. Pausing for 30 seconds.\n"
     ]
    },
    {
     "name": "stderr",
     "output_type": "stream",
     "text": [
      "Processing Rows:  13%|█▎        | 1050/7952 [1:45:08<50:47:07, 26.49s/it]"
     ]
    },
    {
     "name": "stdout",
     "output_type": "stream",
     "text": [
      "Processed 10 new rows. Pausing for 30 seconds.\n"
     ]
    },
    {
     "name": "stderr",
     "output_type": "stream",
     "text": [
      "Processing Rows:  13%|█▎        | 1060/7952 [1:49:03<45:22:57, 23.71s/it]"
     ]
    },
    {
     "name": "stdout",
     "output_type": "stream",
     "text": [
      "Processed 10 new rows. Pausing for 30 seconds.\n"
     ]
    },
    {
     "name": "stderr",
     "output_type": "stream",
     "text": [
      "Processing Rows:  13%|█▎        | 1070/7952 [1:53:36<39:54:36, 20.88s/it]"
     ]
    },
    {
     "name": "stdout",
     "output_type": "stream",
     "text": [
      "Processed 10 new rows. Pausing for 30 seconds.\n"
     ]
    },
    {
     "name": "stderr",
     "output_type": "stream",
     "text": [
      "Processing Rows:  14%|█▎        | 1080/7952 [1:57:39<46:38:32, 24.43s/it]"
     ]
    },
    {
     "name": "stdout",
     "output_type": "stream",
     "text": [
      "Processed 10 new rows. Pausing for 30 seconds.\n"
     ]
    },
    {
     "name": "stderr",
     "output_type": "stream",
     "text": [
      "Processing Rows:  14%|█▎        | 1090/7952 [2:01:47<39:57:13, 20.96s/it]"
     ]
    },
    {
     "name": "stdout",
     "output_type": "stream",
     "text": [
      "Processed 10 new rows. Pausing for 30 seconds.\n"
     ]
    },
    {
     "name": "stderr",
     "output_type": "stream",
     "text": [
      "Processing Rows:  14%|█▍        | 1100/7952 [2:06:08<37:02:09, 19.46s/it]"
     ]
    },
    {
     "name": "stdout",
     "output_type": "stream",
     "text": [
      "Processed 10 new rows. Pausing for 30 seconds.\n"
     ]
    },
    {
     "name": "stderr",
     "output_type": "stream",
     "text": [
      "Processing Rows:  14%|█▍        | 1110/7952 [2:09:45<52:24:01, 27.57s/it]"
     ]
    },
    {
     "name": "stdout",
     "output_type": "stream",
     "text": [
      "Processed 10 new rows. Pausing for 30 seconds.\n"
     ]
    },
    {
     "name": "stderr",
     "output_type": "stream",
     "text": [
      "Processing Rows:  14%|█▍        | 1120/7952 [2:14:42<50:42:02, 26.72s/it]"
     ]
    },
    {
     "name": "stdout",
     "output_type": "stream",
     "text": [
      "Processed 10 new rows. Pausing for 30 seconds.\n"
     ]
    },
    {
     "name": "stderr",
     "output_type": "stream",
     "text": [
      "Processing Rows:  14%|█▍        | 1130/7952 [2:19:02<42:24:50, 22.38s/it]"
     ]
    },
    {
     "name": "stdout",
     "output_type": "stream",
     "text": [
      "Processed 10 new rows. Pausing for 30 seconds.\n"
     ]
    },
    {
     "name": "stderr",
     "output_type": "stream",
     "text": [
      "Processing Rows:  14%|█▍        | 1140/7952 [2:23:55<52:03:29, 27.51s/it]"
     ]
    },
    {
     "name": "stdout",
     "output_type": "stream",
     "text": [
      "Processed 10 new rows. Pausing for 30 seconds.\n"
     ]
    },
    {
     "name": "stderr",
     "output_type": "stream",
     "text": [
      "Processing Rows:  14%|█▍        | 1150/7952 [2:27:28<38:12:20, 20.22s/it]"
     ]
    },
    {
     "name": "stdout",
     "output_type": "stream",
     "text": [
      "Processed 10 new rows. Pausing for 30 seconds.\n"
     ]
    },
    {
     "name": "stderr",
     "output_type": "stream",
     "text": [
      "Processing Rows:  15%|█▍        | 1160/7952 [2:31:58<55:21:22, 29.34s/it]"
     ]
    },
    {
     "name": "stdout",
     "output_type": "stream",
     "text": [
      "Processed 10 new rows. Pausing for 30 seconds.\n"
     ]
    },
    {
     "name": "stderr",
     "output_type": "stream",
     "text": [
      "Processing Rows:  15%|█▍        | 1170/7952 [2:36:02<43:07:35, 22.89s/it]"
     ]
    },
    {
     "name": "stdout",
     "output_type": "stream",
     "text": [
      "Processed 10 new rows. Pausing for 30 seconds.\n"
     ]
    },
    {
     "name": "stderr",
     "output_type": "stream",
     "text": [
      "Processing Rows:  15%|█▍        | 1180/7952 [2:39:01<25:21:59, 13.48s/it]"
     ]
    },
    {
     "name": "stdout",
     "output_type": "stream",
     "text": [
      "Processed 10 new rows. Pausing for 30 seconds.\n"
     ]
    },
    {
     "name": "stderr",
     "output_type": "stream",
     "text": [
      "Processing Rows:  15%|█▍        | 1190/7952 [2:42:33<47:28:21, 25.27s/it]"
     ]
    },
    {
     "name": "stdout",
     "output_type": "stream",
     "text": [
      "Processed 10 new rows. Pausing for 30 seconds.\n"
     ]
    },
    {
     "name": "stderr",
     "output_type": "stream",
     "text": [
      "Processing Rows:  15%|█▌        | 1200/7952 [2:46:53<41:34:22, 22.17s/it]"
     ]
    },
    {
     "name": "stdout",
     "output_type": "stream",
     "text": [
      "Processed 10 new rows. Pausing for 30 seconds.\n"
     ]
    },
    {
     "name": "stderr",
     "output_type": "stream",
     "text": [
      "Processing Rows:  15%|█▌        | 1210/7952 [2:50:42<34:14:57, 18.29s/it]"
     ]
    },
    {
     "name": "stdout",
     "output_type": "stream",
     "text": [
      "Processed 10 new rows. Pausing for 30 seconds.\n"
     ]
    },
    {
     "name": "stderr",
     "output_type": "stream",
     "text": [
      "Processing Rows:  15%|█▌        | 1220/7952 [2:54:59<39:28:44, 21.11s/it]"
     ]
    },
    {
     "name": "stdout",
     "output_type": "stream",
     "text": [
      "Processed 10 new rows. Pausing for 30 seconds.\n"
     ]
    },
    {
     "name": "stderr",
     "output_type": "stream",
     "text": [
      "Processing Rows:  15%|█▌        | 1230/7952 [2:59:43<44:54:05, 24.05s/it]"
     ]
    },
    {
     "name": "stdout",
     "output_type": "stream",
     "text": [
      "Processed 10 new rows. Pausing for 30 seconds.\n"
     ]
    },
    {
     "name": "stderr",
     "output_type": "stream",
     "text": [
      "Processing Rows:  16%|█▌        | 1240/7952 [3:03:28<36:28:37, 19.56s/it]"
     ]
    },
    {
     "name": "stdout",
     "output_type": "stream",
     "text": [
      "Processed 10 new rows. Pausing for 30 seconds.\n"
     ]
    },
    {
     "name": "stderr",
     "output_type": "stream",
     "text": [
      "Processing Rows:  16%|█▌        | 1250/7952 [3:06:04<23:23:26, 12.56s/it]"
     ]
    },
    {
     "name": "stdout",
     "output_type": "stream",
     "text": [
      "Processed 10 new rows. Pausing for 30 seconds.\n"
     ]
    },
    {
     "name": "stderr",
     "output_type": "stream",
     "text": [
      "Processing Rows:  16%|█▌        | 1260/7952 [3:09:45<30:39:06, 16.49s/it]"
     ]
    },
    {
     "name": "stdout",
     "output_type": "stream",
     "text": [
      "Processed 10 new rows. Pausing for 30 seconds.\n"
     ]
    },
    {
     "name": "stderr",
     "output_type": "stream",
     "text": [
      "Processing Rows:  16%|█▌        | 1270/7952 [3:12:40<24:55:14, 13.43s/it]"
     ]
    },
    {
     "name": "stdout",
     "output_type": "stream",
     "text": [
      "Processed 10 new rows. Pausing for 30 seconds.\n"
     ]
    },
    {
     "name": "stderr",
     "output_type": "stream",
     "text": [
      "Processing Rows:  16%|█▌        | 1280/7952 [3:15:18<27:20:07, 14.75s/it]"
     ]
    },
    {
     "name": "stdout",
     "output_type": "stream",
     "text": [
      "Processed 10 new rows. Pausing for 30 seconds.\n"
     ]
    },
    {
     "name": "stderr",
     "output_type": "stream",
     "text": [
      "Processing Rows:  16%|█▌        | 1290/7952 [3:18:14<26:38:32, 14.40s/it]"
     ]
    },
    {
     "name": "stdout",
     "output_type": "stream",
     "text": [
      "Processed 10 new rows. Pausing for 30 seconds.\n"
     ]
    },
    {
     "name": "stderr",
     "output_type": "stream",
     "text": [
      "Processing Rows:  16%|█▋        | 1300/7952 [3:21:15<27:50:18, 15.07s/it]"
     ]
    },
    {
     "name": "stdout",
     "output_type": "stream",
     "text": [
      "Processed 10 new rows. Pausing for 30 seconds.\n"
     ]
    },
    {
     "name": "stderr",
     "output_type": "stream",
     "text": [
      "Processing Rows:  16%|█▋        | 1310/7952 [3:23:59<20:23:24, 11.05s/it]"
     ]
    },
    {
     "name": "stdout",
     "output_type": "stream",
     "text": [
      "Processed 10 new rows. Pausing for 30 seconds.\n"
     ]
    },
    {
     "name": "stderr",
     "output_type": "stream",
     "text": [
      "Processing Rows:  17%|█▋        | 1320/7952 [3:26:56<29:47:50, 16.17s/it]"
     ]
    },
    {
     "name": "stdout",
     "output_type": "stream",
     "text": [
      "Processed 10 new rows. Pausing for 30 seconds.\n"
     ]
    },
    {
     "name": "stderr",
     "output_type": "stream",
     "text": [
      "Processing Rows:  17%|█▋        | 1330/7952 [3:29:34<28:43:09, 15.61s/it]"
     ]
    },
    {
     "name": "stdout",
     "output_type": "stream",
     "text": [
      "Processed 10 new rows. Pausing for 30 seconds.\n"
     ]
    },
    {
     "name": "stderr",
     "output_type": "stream",
     "text": [
      "Processing Rows:  17%|█▋        | 1340/7952 [3:32:14<25:02:35, 13.64s/it]"
     ]
    },
    {
     "name": "stdout",
     "output_type": "stream",
     "text": [
      "Processed 10 new rows. Pausing for 30 seconds.\n"
     ]
    },
    {
     "name": "stderr",
     "output_type": "stream",
     "text": [
      "Processing Rows:  17%|█▋        | 1350/7952 [3:35:14<29:14:20, 15.94s/it]"
     ]
    },
    {
     "name": "stdout",
     "output_type": "stream",
     "text": [
      "Processed 10 new rows. Pausing for 30 seconds.\n"
     ]
    },
    {
     "name": "stderr",
     "output_type": "stream",
     "text": [
      "Processing Rows:  17%|█▋        | 1360/7952 [3:38:40<36:37:42, 20.00s/it]"
     ]
    },
    {
     "name": "stdout",
     "output_type": "stream",
     "text": [
      "Processed 10 new rows. Pausing for 30 seconds.\n"
     ]
    },
    {
     "name": "stderr",
     "output_type": "stream",
     "text": [
      "Processing Rows:  17%|█▋        | 1370/7952 [3:43:34<39:02:15, 21.35s/it]"
     ]
    },
    {
     "name": "stdout",
     "output_type": "stream",
     "text": [
      "Processed 10 new rows. Pausing for 30 seconds.\n"
     ]
    },
    {
     "name": "stderr",
     "output_type": "stream",
     "text": [
      "Processing Rows:  17%|█▋        | 1380/7952 [3:47:15<35:08:43, 19.25s/it]"
     ]
    },
    {
     "name": "stdout",
     "output_type": "stream",
     "text": [
      "Processed 10 new rows. Pausing for 30 seconds.\n"
     ]
    },
    {
     "name": "stderr",
     "output_type": "stream",
     "text": [
      "Processing Rows:  17%|█▋        | 1390/7952 [3:51:15<35:50:46, 19.67s/it]"
     ]
    },
    {
     "name": "stdout",
     "output_type": "stream",
     "text": [
      "Processed 10 new rows. Pausing for 30 seconds.\n"
     ]
    },
    {
     "name": "stderr",
     "output_type": "stream",
     "text": [
      "Processing Rows:  18%|█▊        | 1400/7952 [3:54:34<32:28:46, 17.85s/it]"
     ]
    },
    {
     "name": "stdout",
     "output_type": "stream",
     "text": [
      "Processed 10 new rows. Pausing for 30 seconds.\n"
     ]
    },
    {
     "name": "stderr",
     "output_type": "stream",
     "text": [
      "Processing Rows:  18%|█▊        | 1410/7952 [3:57:46<27:19:41, 15.04s/it]"
     ]
    },
    {
     "name": "stdout",
     "output_type": "stream",
     "text": [
      "Processed 10 new rows. Pausing for 30 seconds.\n"
     ]
    },
    {
     "name": "stderr",
     "output_type": "stream",
     "text": [
      "Processing Rows:  18%|█▊        | 1420/7952 [4:01:31<43:00:04, 23.70s/it]"
     ]
    },
    {
     "name": "stdout",
     "output_type": "stream",
     "text": [
      "Processed 10 new rows. Pausing for 30 seconds.\n"
     ]
    },
    {
     "name": "stderr",
     "output_type": "stream",
     "text": [
      "Processing Rows:  18%|█▊        | 1430/7952 [4:05:51<38:00:01, 20.98s/it]"
     ]
    },
    {
     "name": "stdout",
     "output_type": "stream",
     "text": [
      "Processed 10 new rows. Pausing for 30 seconds.\n"
     ]
    },
    {
     "name": "stderr",
     "output_type": "stream",
     "text": [
      "Processing Rows:  18%|█▊        | 1440/7952 [4:09:05<23:53:26, 13.21s/it]"
     ]
    },
    {
     "name": "stdout",
     "output_type": "stream",
     "text": [
      "Processed 10 new rows. Pausing for 30 seconds.\n"
     ]
    },
    {
     "name": "stderr",
     "output_type": "stream",
     "text": [
      "Processing Rows:  18%|█▊        | 1450/7952 [4:12:19<25:21:38, 14.04s/it]"
     ]
    },
    {
     "name": "stdout",
     "output_type": "stream",
     "text": [
      "Processed 10 new rows. Pausing for 30 seconds.\n"
     ]
    },
    {
     "name": "stderr",
     "output_type": "stream",
     "text": [
      "Processing Rows:  18%|█▊        | 1460/7952 [4:14:48<22:28:35, 12.46s/it]"
     ]
    },
    {
     "name": "stdout",
     "output_type": "stream",
     "text": [
      "Processed 10 new rows. Pausing for 30 seconds.\n"
     ]
    },
    {
     "name": "stderr",
     "output_type": "stream",
     "text": [
      "Processing Rows:  18%|█▊        | 1470/7952 [4:17:43<35:01:02, 19.45s/it]"
     ]
    },
    {
     "name": "stdout",
     "output_type": "stream",
     "text": [
      "Processed 10 new rows. Pausing for 30 seconds.\n"
     ]
    },
    {
     "name": "stderr",
     "output_type": "stream",
     "text": [
      "Processing Rows:  19%|█▊        | 1480/7952 [4:20:19<24:27:33, 13.61s/it]"
     ]
    },
    {
     "name": "stdout",
     "output_type": "stream",
     "text": [
      "Processed 10 new rows. Pausing for 30 seconds.\n"
     ]
    },
    {
     "name": "stderr",
     "output_type": "stream",
     "text": [
      "Processing Rows:  19%|█▊        | 1486/7952 [4:23:56<62:06:54, 34.58s/it]"
     ]
    },
    {
     "name": "stdout",
     "output_type": "stream",
     "text": [
      "Parsing Error encountered. Response was:\n",
      "{\n",
      "  \"Relevance\": \"Very Relevant\",\n",
      "  \"Evidence\": \"Increased uncertainty exists on our ability to enforce collection terms on business to consumer secured loans. In November 2020, the EU adopted a directive on representative actions (Directive 2020/1828) to facilitate class actions both for injunctions and compensations, replacing the so-called \\\"injunctions directive\\\" (Directive 2009/22/EC), which could also entail higher levels of litigation and in turn jeopardize our collection ability.\"\n",
      "}\n",
      "Parsing Error encountered. Response was:\n",
      "{\n",
      "  \"Relevance\": \"Very Relevant\",\n",
      "  \"Evidence\": \"consumer credit market, installment plans, debt collection services, licensing requirements, NPL Directive, insolvency or debt reorganization proceedings\"\n",
      "}\n"
     ]
    },
    {
     "name": "stderr",
     "output_type": "stream",
     "text": [
      "Processing Rows:  19%|█▊        | 1490/7952 [4:26:09<53:16:53, 29.68s/it]"
     ]
    },
    {
     "name": "stdout",
     "output_type": "stream",
     "text": [
      "Processed 10 new rows. Pausing for 30 seconds.\n"
     ]
    },
    {
     "name": "stderr",
     "output_type": "stream",
     "text": [
      "Processing Rows:  19%|█▉        | 1500/7952 [4:30:25<34:56:24, 19.50s/it]"
     ]
    },
    {
     "name": "stdout",
     "output_type": "stream",
     "text": [
      "Processed 10 new rows. Pausing for 30 seconds.\n"
     ]
    },
    {
     "name": "stderr",
     "output_type": "stream",
     "text": [
      "Processing Rows:  19%|█▉        | 1510/7952 [4:34:07<30:29:27, 17.04s/it]"
     ]
    },
    {
     "name": "stdout",
     "output_type": "stream",
     "text": [
      "Processed 10 new rows. Pausing for 30 seconds.\n"
     ]
    },
    {
     "name": "stderr",
     "output_type": "stream",
     "text": [
      "Processing Rows:  19%|█▉        | 1520/7952 [4:37:31<28:46:04, 16.10s/it]"
     ]
    },
    {
     "name": "stdout",
     "output_type": "stream",
     "text": [
      "Processed 10 new rows. Pausing for 30 seconds.\n"
     ]
    },
    {
     "name": "stderr",
     "output_type": "stream",
     "text": [
      "Processing Rows:  19%|█▉        | 1530/7952 [4:41:27<38:38:47, 21.66s/it]"
     ]
    },
    {
     "name": "stdout",
     "output_type": "stream",
     "text": [
      "Processed 10 new rows. Pausing for 30 seconds.\n"
     ]
    },
    {
     "name": "stderr",
     "output_type": "stream",
     "text": [
      "Processing Rows:  19%|█▉        | 1540/7952 [4:44:17<25:51:20, 14.52s/it]"
     ]
    },
    {
     "name": "stdout",
     "output_type": "stream",
     "text": [
      "Processed 10 new rows. Pausing for 30 seconds.\n"
     ]
    },
    {
     "name": "stderr",
     "output_type": "stream",
     "text": [
      "Processing Rows:  19%|█▉        | 1550/7952 [4:47:39<33:23:37, 18.78s/it]"
     ]
    },
    {
     "name": "stdout",
     "output_type": "stream",
     "text": [
      "Processed 10 new rows. Pausing for 30 seconds.\n"
     ]
    },
    {
     "name": "stderr",
     "output_type": "stream",
     "text": [
      "Processing Rows:  20%|█▉        | 1560/7952 [4:52:22<44:11:49, 24.89s/it]"
     ]
    },
    {
     "name": "stdout",
     "output_type": "stream",
     "text": [
      "Processed 10 new rows. Pausing for 30 seconds.\n"
     ]
    },
    {
     "name": "stderr",
     "output_type": "stream",
     "text": [
      "Processing Rows:  20%|█▉        | 1570/7952 [4:55:59<38:06:45, 21.50s/it]"
     ]
    },
    {
     "name": "stdout",
     "output_type": "stream",
     "text": [
      "Processed 10 new rows. Pausing for 30 seconds.\n"
     ]
    },
    {
     "name": "stderr",
     "output_type": "stream",
     "text": [
      "Processing Rows:  20%|█▉        | 1580/7952 [4:59:20<30:42:10, 17.35s/it]"
     ]
    },
    {
     "name": "stdout",
     "output_type": "stream",
     "text": [
      "Processed 10 new rows. Pausing for 30 seconds.\n"
     ]
    },
    {
     "name": "stderr",
     "output_type": "stream",
     "text": [
      "Processing Rows:  20%|█▉        | 1590/7952 [5:02:36<27:35:07, 15.61s/it]"
     ]
    },
    {
     "name": "stdout",
     "output_type": "stream",
     "text": [
      "Processed 10 new rows. Pausing for 30 seconds.\n"
     ]
    },
    {
     "name": "stderr",
     "output_type": "stream",
     "text": [
      "Processing Rows:  20%|██        | 1600/7952 [5:05:52<34:28:03, 19.53s/it]"
     ]
    },
    {
     "name": "stdout",
     "output_type": "stream",
     "text": [
      "Processed 10 new rows. Pausing for 30 seconds.\n"
     ]
    },
    {
     "name": "stderr",
     "output_type": "stream",
     "text": [
      "Processing Rows:  20%|██        | 1610/7952 [5:09:29<30:44:21, 17.45s/it]"
     ]
    },
    {
     "name": "stdout",
     "output_type": "stream",
     "text": [
      "Processed 10 new rows. Pausing for 30 seconds.\n"
     ]
    },
    {
     "name": "stderr",
     "output_type": "stream",
     "text": [
      "Processing Rows:  20%|██        | 1620/7952 [5:12:16<23:16:29, 13.23s/it]"
     ]
    },
    {
     "name": "stdout",
     "output_type": "stream",
     "text": [
      "Processed 10 new rows. Pausing for 30 seconds.\n"
     ]
    },
    {
     "name": "stderr",
     "output_type": "stream",
     "text": [
      "Processing Rows:  20%|██        | 1630/7952 [5:16:52<41:32:58, 23.66s/it]"
     ]
    },
    {
     "name": "stdout",
     "output_type": "stream",
     "text": [
      "Processed 10 new rows. Pausing for 30 seconds.\n"
     ]
    },
    {
     "name": "stderr",
     "output_type": "stream",
     "text": [
      "Processing Rows:  21%|██        | 1640/7952 [5:20:51<36:14:56, 20.67s/it]"
     ]
    },
    {
     "name": "stdout",
     "output_type": "stream",
     "text": [
      "Processed 10 new rows. Pausing for 30 seconds.\n"
     ]
    },
    {
     "name": "stderr",
     "output_type": "stream",
     "text": [
      "Processing Rows:  21%|██        | 1650/7952 [5:25:02<44:30:29, 25.43s/it]"
     ]
    },
    {
     "name": "stdout",
     "output_type": "stream",
     "text": [
      "Processed 10 new rows. Pausing for 30 seconds.\n"
     ]
    },
    {
     "name": "stderr",
     "output_type": "stream",
     "text": [
      "Processing Rows:  21%|██        | 1660/7952 [5:28:46<36:15:05, 20.74s/it]"
     ]
    },
    {
     "name": "stdout",
     "output_type": "stream",
     "text": [
      "Processed 10 new rows. Pausing for 30 seconds.\n"
     ]
    },
    {
     "name": "stderr",
     "output_type": "stream",
     "text": [
      "Processing Rows:  21%|██        | 1670/7952 [5:33:40<50:22:13, 28.87s/it]"
     ]
    },
    {
     "name": "stdout",
     "output_type": "stream",
     "text": [
      "Processed 10 new rows. Pausing for 30 seconds.\n"
     ]
    },
    {
     "name": "stderr",
     "output_type": "stream",
     "text": [
      "Processing Rows:  21%|██        | 1680/7952 [5:38:46<51:42:42, 29.68s/it]"
     ]
    },
    {
     "name": "stdout",
     "output_type": "stream",
     "text": [
      "Processed 10 new rows. Pausing for 30 seconds.\n"
     ]
    },
    {
     "name": "stderr",
     "output_type": "stream",
     "text": [
      "Processing Rows:  21%|██▏       | 1690/7952 [5:43:59<57:04:17, 32.81s/it]"
     ]
    },
    {
     "name": "stdout",
     "output_type": "stream",
     "text": [
      "Processed 10 new rows. Pausing for 30 seconds.\n"
     ]
    },
    {
     "name": "stderr",
     "output_type": "stream",
     "text": [
      "Processing Rows:  21%|██▏       | 1700/7952 [5:47:10<26:06:40, 15.04s/it]"
     ]
    },
    {
     "name": "stdout",
     "output_type": "stream",
     "text": [
      "Processed 10 new rows. Pausing for 30 seconds.\n"
     ]
    },
    {
     "name": "stderr",
     "output_type": "stream",
     "text": [
      "Processing Rows:  22%|██▏       | 1710/7952 [5:50:37<36:13:59, 20.90s/it]"
     ]
    },
    {
     "name": "stdout",
     "output_type": "stream",
     "text": [
      "Processed 10 new rows. Pausing for 30 seconds.\n"
     ]
    },
    {
     "name": "stderr",
     "output_type": "stream",
     "text": [
      "Processing Rows:  22%|██▏       | 1720/7952 [5:55:39<41:18:36, 23.86s/it]"
     ]
    },
    {
     "name": "stdout",
     "output_type": "stream",
     "text": [
      "Processed 10 new rows. Pausing for 30 seconds.\n"
     ]
    },
    {
     "name": "stderr",
     "output_type": "stream",
     "text": [
      "Processing Rows:  22%|██▏       | 1730/7952 [5:58:53<28:11:50, 16.31s/it]"
     ]
    },
    {
     "name": "stdout",
     "output_type": "stream",
     "text": [
      "Processed 10 new rows. Pausing for 30 seconds.\n"
     ]
    },
    {
     "name": "stderr",
     "output_type": "stream",
     "text": [
      "Processing Rows:  22%|██▏       | 1740/7952 [6:01:57<27:19:26, 15.83s/it]"
     ]
    },
    {
     "name": "stdout",
     "output_type": "stream",
     "text": [
      "Processed 10 new rows. Pausing for 30 seconds.\n"
     ]
    },
    {
     "name": "stderr",
     "output_type": "stream",
     "text": [
      "Processing Rows:  22%|██▏       | 1750/7952 [6:06:14<36:56:40, 21.44s/it]"
     ]
    },
    {
     "name": "stdout",
     "output_type": "stream",
     "text": [
      "Processed 10 new rows. Pausing for 30 seconds.\n"
     ]
    },
    {
     "name": "stderr",
     "output_type": "stream",
     "text": [
      "Processing Rows:  22%|██▏       | 1760/7952 [6:09:28<29:29:58, 17.15s/it]"
     ]
    },
    {
     "name": "stdout",
     "output_type": "stream",
     "text": [
      "Processed 10 new rows. Pausing for 30 seconds.\n"
     ]
    },
    {
     "name": "stderr",
     "output_type": "stream",
     "text": [
      "Processing Rows:  22%|██▏       | 1770/7952 [6:12:42<27:32:05, 16.03s/it]"
     ]
    },
    {
     "name": "stdout",
     "output_type": "stream",
     "text": [
      "Processed 10 new rows. Pausing for 30 seconds.\n"
     ]
    },
    {
     "name": "stderr",
     "output_type": "stream",
     "text": [
      "Processing Rows:  22%|██▏       | 1776/7952 [6:15:41<51:09:22, 29.82s/it]"
     ]
    },
    {
     "name": "stdout",
     "output_type": "stream",
     "text": [
      "Parsing Error encountered. Response was:\n",
      "{\"Relevance\": \"Very Relevant\", \"Evidence\": \"increasing competition from non-traditional mobile voice and data services based on new mobile VoIP, particularly over the top services (“OTT services”), such as Facebook Messenger, FaceTime, Google Talk, Skype, Snapchat, Viber and WhatsApp.\"}\n",
      "Parsing Error encountered. Response was:\n",
      "{\n",
      "  \"Relevance\": \"Very High\",\n",
      "  \"Evidence\": \"All of the above\"\n",
      "}\n"
     ]
    },
    {
     "name": "stderr",
     "output_type": "stream",
     "text": [
      "Processing Rows:  22%|██▏       | 1780/7952 [6:19:11<80:19:09, 46.85s/it]"
     ]
    },
    {
     "name": "stdout",
     "output_type": "stream",
     "text": [
      "Processed 10 new rows. Pausing for 30 seconds.\n"
     ]
    },
    {
     "name": "stderr",
     "output_type": "stream",
     "text": [
      "Processing Rows:  23%|██▎       | 1790/7952 [6:23:37<42:15:53, 24.69s/it]"
     ]
    },
    {
     "name": "stdout",
     "output_type": "stream",
     "text": [
      "Processed 10 new rows. Pausing for 30 seconds.\n"
     ]
    },
    {
     "name": "stderr",
     "output_type": "stream",
     "text": [
      "Processing Rows:  23%|██▎       | 1800/7952 [6:27:47<35:29:51, 20.77s/it]"
     ]
    },
    {
     "name": "stdout",
     "output_type": "stream",
     "text": [
      "Processed 10 new rows. Pausing for 30 seconds.\n"
     ]
    },
    {
     "name": "stderr",
     "output_type": "stream",
     "text": [
      "Processing Rows:  23%|██▎       | 1810/7952 [6:31:57<34:57:00, 20.49s/it]"
     ]
    },
    {
     "name": "stdout",
     "output_type": "stream",
     "text": [
      "Processed 10 new rows. Pausing for 30 seconds.\n"
     ]
    },
    {
     "name": "stderr",
     "output_type": "stream",
     "text": [
      "Processing Rows:  23%|██▎       | 1820/7952 [6:35:39<32:17:45, 18.96s/it]"
     ]
    },
    {
     "name": "stdout",
     "output_type": "stream",
     "text": [
      "Processed 10 new rows. Pausing for 30 seconds.\n"
     ]
    },
    {
     "name": "stderr",
     "output_type": "stream",
     "text": [
      "Processing Rows:  23%|██▎       | 1830/7952 [6:40:06<33:41:08, 19.81s/it]"
     ]
    },
    {
     "name": "stdout",
     "output_type": "stream",
     "text": [
      "Processed 10 new rows. Pausing for 30 seconds.\n"
     ]
    },
    {
     "name": "stderr",
     "output_type": "stream",
     "text": [
      "Processing Rows:  23%|██▎       | 1840/7952 [6:43:59<42:03:19, 24.77s/it]"
     ]
    },
    {
     "name": "stdout",
     "output_type": "stream",
     "text": [
      "Processed 10 new rows. Pausing for 30 seconds.\n"
     ]
    },
    {
     "name": "stderr",
     "output_type": "stream",
     "text": [
      "Processing Rows:  23%|██▎       | 1850/7952 [6:49:08<37:45:43, 22.28s/it]"
     ]
    },
    {
     "name": "stdout",
     "output_type": "stream",
     "text": [
      "Processed 10 new rows. Pausing for 30 seconds.\n"
     ]
    },
    {
     "name": "stderr",
     "output_type": "stream",
     "text": [
      "Processing Rows:  23%|██▎       | 1860/7952 [6:52:40<31:49:02, 18.80s/it]"
     ]
    },
    {
     "name": "stdout",
     "output_type": "stream",
     "text": [
      "Processed 10 new rows. Pausing for 30 seconds.\n"
     ]
    },
    {
     "name": "stderr",
     "output_type": "stream",
     "text": [
      "Processing Rows:  24%|██▎       | 1870/7952 [6:55:50<24:22:08, 14.42s/it]"
     ]
    },
    {
     "name": "stdout",
     "output_type": "stream",
     "text": [
      "Processed 10 new rows. Pausing for 30 seconds.\n"
     ]
    },
    {
     "name": "stderr",
     "output_type": "stream",
     "text": [
      "Processing Rows:  24%|██▎       | 1880/7952 [6:58:28<20:53:24, 12.39s/it]"
     ]
    },
    {
     "name": "stdout",
     "output_type": "stream",
     "text": [
      "Processed 10 new rows. Pausing for 30 seconds.\n"
     ]
    },
    {
     "name": "stderr",
     "output_type": "stream",
     "text": [
      "Processing Rows:  24%|██▍       | 1890/7952 [7:01:02<21:57:32, 13.04s/it]"
     ]
    },
    {
     "name": "stdout",
     "output_type": "stream",
     "text": [
      "Processed 10 new rows. Pausing for 30 seconds.\n"
     ]
    },
    {
     "name": "stderr",
     "output_type": "stream",
     "text": [
      "Processing Rows:  24%|██▍       | 1900/7952 [7:05:02<25:37:08, 15.24s/it]"
     ]
    },
    {
     "name": "stdout",
     "output_type": "stream",
     "text": [
      "Processed 10 new rows. Pausing for 30 seconds.\n"
     ]
    },
    {
     "name": "stderr",
     "output_type": "stream",
     "text": [
      "Processing Rows:  24%|██▍       | 1910/7952 [7:08:29<28:00:26, 16.69s/it]"
     ]
    },
    {
     "name": "stdout",
     "output_type": "stream",
     "text": [
      "Processed 10 new rows. Pausing for 30 seconds.\n"
     ]
    },
    {
     "name": "stderr",
     "output_type": "stream",
     "text": [
      "Processing Rows:  24%|██▍       | 1920/7952 [7:11:28<29:05:02, 17.36s/it]"
     ]
    },
    {
     "name": "stdout",
     "output_type": "stream",
     "text": [
      "Processed 10 new rows. Pausing for 30 seconds.\n"
     ]
    },
    {
     "name": "stderr",
     "output_type": "stream",
     "text": [
      "Processing Rows:  24%|██▍       | 1930/7952 [7:15:23<52:03:58, 31.13s/it]"
     ]
    },
    {
     "name": "stdout",
     "output_type": "stream",
     "text": [
      "Processed 10 new rows. Pausing for 30 seconds.\n"
     ]
    },
    {
     "name": "stderr",
     "output_type": "stream",
     "text": [
      "Processing Rows:  24%|██▍       | 1940/7952 [7:18:25<31:48:27, 19.05s/it]"
     ]
    },
    {
     "name": "stdout",
     "output_type": "stream",
     "text": [
      "Processed 10 new rows. Pausing for 30 seconds.\n"
     ]
    },
    {
     "name": "stderr",
     "output_type": "stream",
     "text": [
      "Processing Rows:  25%|██▍       | 1950/7952 [7:23:13<46:16:07, 27.75s/it]"
     ]
    },
    {
     "name": "stdout",
     "output_type": "stream",
     "text": [
      "Processed 10 new rows. Pausing for 30 seconds.\n"
     ]
    },
    {
     "name": "stderr",
     "output_type": "stream",
     "text": [
      "Processing Rows:  25%|██▍       | 1960/7952 [7:26:45<26:26:58, 15.89s/it]"
     ]
    },
    {
     "name": "stdout",
     "output_type": "stream",
     "text": [
      "Processed 10 new rows. Pausing for 30 seconds.\n"
     ]
    },
    {
     "name": "stderr",
     "output_type": "stream",
     "text": [
      "Processing Rows:  25%|██▍       | 1970/7952 [7:30:29<33:30:01, 20.16s/it]"
     ]
    },
    {
     "name": "stdout",
     "output_type": "stream",
     "text": [
      "Processed 10 new rows. Pausing for 30 seconds.\n"
     ]
    },
    {
     "name": "stderr",
     "output_type": "stream",
     "text": [
      "Processing Rows:  25%|██▍       | 1980/7952 [7:34:22<32:56:46, 19.86s/it]"
     ]
    },
    {
     "name": "stdout",
     "output_type": "stream",
     "text": [
      "Processed 10 new rows. Pausing for 30 seconds.\n"
     ]
    },
    {
     "name": "stderr",
     "output_type": "stream",
     "text": [
      "Processing Rows:  25%|██▌       | 1990/7952 [7:38:44<37:11:26, 22.46s/it]"
     ]
    },
    {
     "name": "stdout",
     "output_type": "stream",
     "text": [
      "Processed 10 new rows. Pausing for 30 seconds.\n"
     ]
    },
    {
     "name": "stderr",
     "output_type": "stream",
     "text": [
      "Processing Rows:  25%|██▌       | 2000/7952 [7:42:42<32:13:40, 19.49s/it]"
     ]
    },
    {
     "name": "stdout",
     "output_type": "stream",
     "text": [
      "Processed 10 new rows. Pausing for 30 seconds.\n"
     ]
    },
    {
     "name": "stderr",
     "output_type": "stream",
     "text": [
      "Processing Rows:  25%|██▌       | 2010/7952 [7:46:29<32:56:57, 19.96s/it]"
     ]
    },
    {
     "name": "stdout",
     "output_type": "stream",
     "text": [
      "Processed 10 new rows. Pausing for 30 seconds.\n"
     ]
    },
    {
     "name": "stderr",
     "output_type": "stream",
     "text": [
      "Processing Rows:  25%|██▌       | 2020/7952 [7:50:43<42:33:45, 25.83s/it]"
     ]
    },
    {
     "name": "stdout",
     "output_type": "stream",
     "text": [
      "Processed 10 new rows. Pausing for 30 seconds.\n"
     ]
    },
    {
     "name": "stderr",
     "output_type": "stream",
     "text": [
      "Processing Rows:  26%|██▌       | 2030/7952 [7:54:14<27:30:11, 16.72s/it]"
     ]
    },
    {
     "name": "stdout",
     "output_type": "stream",
     "text": [
      "Processed 10 new rows. Pausing for 30 seconds.\n"
     ]
    },
    {
     "name": "stderr",
     "output_type": "stream",
     "text": [
      "Processing Rows:  26%|██▌       | 2040/7952 [7:57:39<34:02:49, 20.73s/it]"
     ]
    },
    {
     "name": "stdout",
     "output_type": "stream",
     "text": [
      "Processed 10 new rows. Pausing for 30 seconds.\n"
     ]
    },
    {
     "name": "stderr",
     "output_type": "stream",
     "text": [
      "Processing Rows:  26%|██▌       | 2050/7952 [8:01:15<24:22:33, 14.87s/it]"
     ]
    },
    {
     "name": "stdout",
     "output_type": "stream",
     "text": [
      "Processed 10 new rows. Pausing for 30 seconds.\n"
     ]
    },
    {
     "name": "stderr",
     "output_type": "stream",
     "text": [
      "Processing Rows:  26%|██▌       | 2060/7952 [8:04:18<24:40:33, 15.08s/it]"
     ]
    },
    {
     "name": "stdout",
     "output_type": "stream",
     "text": [
      "Processed 10 new rows. Pausing for 30 seconds.\n"
     ]
    },
    {
     "name": "stderr",
     "output_type": "stream",
     "text": [
      "Processing Rows:  26%|██▌       | 2070/7952 [8:07:55<40:02:29, 24.51s/it]"
     ]
    },
    {
     "name": "stdout",
     "output_type": "stream",
     "text": [
      "Processed 10 new rows. Pausing for 30 seconds.\n"
     ]
    },
    {
     "name": "stderr",
     "output_type": "stream",
     "text": [
      "Processing Rows:  26%|██▌       | 2080/7952 [8:11:39<29:52:47, 18.32s/it]"
     ]
    },
    {
     "name": "stdout",
     "output_type": "stream",
     "text": [
      "Processed 10 new rows. Pausing for 30 seconds.\n"
     ]
    },
    {
     "name": "stderr",
     "output_type": "stream",
     "text": [
      "Processing Rows:  26%|██▋       | 2090/7952 [8:14:57<25:36:48, 15.73s/it]"
     ]
    },
    {
     "name": "stdout",
     "output_type": "stream",
     "text": [
      "Processed 10 new rows. Pausing for 30 seconds.\n"
     ]
    },
    {
     "name": "stderr",
     "output_type": "stream",
     "text": [
      "Processing Rows:  26%|██▋       | 2100/7952 [8:19:17<32:39:40, 20.09s/it]"
     ]
    },
    {
     "name": "stdout",
     "output_type": "stream",
     "text": [
      "Processed 10 new rows. Pausing for 30 seconds.\n"
     ]
    },
    {
     "name": "stderr",
     "output_type": "stream",
     "text": [
      "Processing Rows:  27%|██▋       | 2110/7952 [8:22:02<20:57:41, 12.92s/it]"
     ]
    },
    {
     "name": "stdout",
     "output_type": "stream",
     "text": [
      "Processed 10 new rows. Pausing for 30 seconds.\n"
     ]
    },
    {
     "name": "stderr",
     "output_type": "stream",
     "text": [
      "Processing Rows:  27%|██▋       | 2120/7952 [8:27:25<44:43:30, 27.61s/it]"
     ]
    },
    {
     "name": "stdout",
     "output_type": "stream",
     "text": [
      "Processed 10 new rows. Pausing for 30 seconds.\n"
     ]
    },
    {
     "name": "stderr",
     "output_type": "stream",
     "text": [
      "Processing Rows:  27%|██▋       | 2130/7952 [8:32:04<38:53:25, 24.05s/it]"
     ]
    },
    {
     "name": "stdout",
     "output_type": "stream",
     "text": [
      "Processed 10 new rows. Pausing for 30 seconds.\n"
     ]
    },
    {
     "name": "stderr",
     "output_type": "stream",
     "text": [
      "Processing Rows:  27%|██▋       | 2140/7952 [8:35:17<25:09:23, 15.58s/it]"
     ]
    },
    {
     "name": "stdout",
     "output_type": "stream",
     "text": [
      "Processed 10 new rows. Pausing for 30 seconds.\n"
     ]
    },
    {
     "name": "stderr",
     "output_type": "stream",
     "text": [
      "Processing Rows:  27%|██▋       | 2150/7952 [8:39:21<32:00:33, 19.86s/it]"
     ]
    },
    {
     "name": "stdout",
     "output_type": "stream",
     "text": [
      "Processed 10 new rows. Pausing for 30 seconds.\n"
     ]
    },
    {
     "name": "stderr",
     "output_type": "stream",
     "text": [
      "Processing Rows:  27%|██▋       | 2160/7952 [8:43:49<34:44:42, 21.60s/it]"
     ]
    },
    {
     "name": "stdout",
     "output_type": "stream",
     "text": [
      "Processed 10 new rows. Pausing for 30 seconds.\n"
     ]
    },
    {
     "name": "stderr",
     "output_type": "stream",
     "text": [
      "Processing Rows:  27%|██▋       | 2170/7952 [8:47:30<32:39:20, 20.33s/it]"
     ]
    },
    {
     "name": "stdout",
     "output_type": "stream",
     "text": [
      "Processed 10 new rows. Pausing for 30 seconds.\n"
     ]
    },
    {
     "name": "stderr",
     "output_type": "stream",
     "text": [
      "Processing Rows:  27%|██▋       | 2180/7952 [8:51:02<20:47:57, 12.97s/it]"
     ]
    },
    {
     "name": "stdout",
     "output_type": "stream",
     "text": [
      "Processed 10 new rows. Pausing for 30 seconds.\n"
     ]
    },
    {
     "name": "stderr",
     "output_type": "stream",
     "text": [
      "Processing Rows:  28%|██▊       | 2190/7952 [8:54:13<25:10:20, 15.73s/it]"
     ]
    },
    {
     "name": "stdout",
     "output_type": "stream",
     "text": [
      "Processed 10 new rows. Pausing for 30 seconds.\n"
     ]
    },
    {
     "name": "stderr",
     "output_type": "stream",
     "text": [
      "Processing Rows:  28%|██▊       | 2200/7952 [8:57:36<24:24:06, 15.27s/it]"
     ]
    },
    {
     "name": "stdout",
     "output_type": "stream",
     "text": [
      "Processed 10 new rows. Pausing for 30 seconds.\n"
     ]
    },
    {
     "name": "stderr",
     "output_type": "stream",
     "text": [
      "Processing Rows:  28%|██▊       | 2210/7952 [9:01:50<38:02:06, 23.85s/it]"
     ]
    },
    {
     "name": "stdout",
     "output_type": "stream",
     "text": [
      "Processed 10 new rows. Pausing for 30 seconds.\n"
     ]
    },
    {
     "name": "stderr",
     "output_type": "stream",
     "text": [
      "Processing Rows:  28%|██▊       | 2220/7952 [9:04:51<25:11:07, 15.82s/it]"
     ]
    },
    {
     "name": "stdout",
     "output_type": "stream",
     "text": [
      "Processed 10 new rows. Pausing for 30 seconds.\n"
     ]
    },
    {
     "name": "stderr",
     "output_type": "stream",
     "text": [
      "Processing Rows:  28%|██▊       | 2230/7952 [9:07:59<22:34:27, 14.20s/it]"
     ]
    },
    {
     "name": "stdout",
     "output_type": "stream",
     "text": [
      "Processed 10 new rows. Pausing for 30 seconds.\n"
     ]
    },
    {
     "name": "stderr",
     "output_type": "stream",
     "text": [
      "Processing Rows:  28%|██▊       | 2240/7952 [9:10:40<20:37:39, 13.00s/it]"
     ]
    },
    {
     "name": "stdout",
     "output_type": "stream",
     "text": [
      "Processed 10 new rows. Pausing for 30 seconds.\n"
     ]
    },
    {
     "name": "stderr",
     "output_type": "stream",
     "text": [
      "Processing Rows:  28%|██▊       | 2250/7952 [9:13:15<22:38:34, 14.30s/it]"
     ]
    },
    {
     "name": "stdout",
     "output_type": "stream",
     "text": [
      "Processed 10 new rows. Pausing for 30 seconds.\n"
     ]
    },
    {
     "name": "stderr",
     "output_type": "stream",
     "text": [
      "Processing Rows:  28%|██▊       | 2260/7952 [9:16:13<24:02:31, 15.21s/it]"
     ]
    },
    {
     "name": "stdout",
     "output_type": "stream",
     "text": [
      "Processed 10 new rows. Pausing for 30 seconds.\n"
     ]
    },
    {
     "name": "stderr",
     "output_type": "stream",
     "text": [
      "Processing Rows:  29%|██▊       | 2270/7952 [9:19:43<31:53:41, 20.21s/it]"
     ]
    },
    {
     "name": "stdout",
     "output_type": "stream",
     "text": [
      "Processed 10 new rows. Pausing for 30 seconds.\n"
     ]
    },
    {
     "name": "stderr",
     "output_type": "stream",
     "text": [
      "Processing Rows:  29%|██▊       | 2280/7952 [9:22:23<18:18:28, 11.62s/it]"
     ]
    },
    {
     "name": "stdout",
     "output_type": "stream",
     "text": [
      "Processed 10 new rows. Pausing for 30 seconds.\n"
     ]
    },
    {
     "name": "stderr",
     "output_type": "stream",
     "text": [
      "Processing Rows:  29%|██▉       | 2290/7952 [9:25:57<30:50:20, 19.61s/it]"
     ]
    },
    {
     "name": "stdout",
     "output_type": "stream",
     "text": [
      "Processed 10 new rows. Pausing for 30 seconds.\n"
     ]
    },
    {
     "name": "stderr",
     "output_type": "stream",
     "text": [
      "Processing Rows:  29%|██▉       | 2300/7952 [9:29:55<32:00:20, 20.39s/it]"
     ]
    },
    {
     "name": "stdout",
     "output_type": "stream",
     "text": [
      "Processed 10 new rows. Pausing for 30 seconds.\n"
     ]
    },
    {
     "name": "stderr",
     "output_type": "stream",
     "text": [
      "Processing Rows:  29%|██▉       | 2310/7952 [9:33:37<28:14:02, 18.02s/it]"
     ]
    },
    {
     "name": "stdout",
     "output_type": "stream",
     "text": [
      "Processed 10 new rows. Pausing for 30 seconds.\n"
     ]
    },
    {
     "name": "stderr",
     "output_type": "stream",
     "text": [
      "Processing Rows:  29%|██▉       | 2320/7952 [9:37:22<26:35:48, 17.00s/it]"
     ]
    },
    {
     "name": "stdout",
     "output_type": "stream",
     "text": [
      "Processed 10 new rows. Pausing for 30 seconds.\n"
     ]
    },
    {
     "name": "stderr",
     "output_type": "stream",
     "text": [
      "Processing Rows:  29%|██▉       | 2320/7952 [9:37:53<23:22:51, 14.95s/it]\n"
     ]
    },
    {
     "ename": "KeyboardInterrupt",
     "evalue": "",
     "output_type": "error",
     "traceback": [
      "\u001b[0;31m---------------------------------------------------------------------------\u001b[0m",
      "\u001b[0;31mKeyboardInterrupt\u001b[0m                         Traceback (most recent call last)",
      "Cell \u001b[0;32mIn[17], line 32\u001b[0m\n\u001b[1;32m     30\u001b[0m         df\u001b[38;5;241m.\u001b[39mto_csv(processed_file_path, index\u001b[38;5;241m=\u001b[39m\u001b[38;5;28;01mFalse\u001b[39;00m)  \u001b[38;5;66;03m# Save before sleeping\u001b[39;00m\n\u001b[1;32m     31\u001b[0m         \u001b[38;5;28mprint\u001b[39m(\u001b[38;5;124mf\u001b[39m\u001b[38;5;124m\"\u001b[39m\u001b[38;5;124mProcessed 10 new rows. Pausing for 30 seconds.\u001b[39m\u001b[38;5;124m\"\u001b[39m)\n\u001b[0;32m---> 32\u001b[0m         \u001b[43mtime\u001b[49m\u001b[38;5;241;43m.\u001b[39;49m\u001b[43msleep\u001b[49m\u001b[43m(\u001b[49m\u001b[38;5;241;43m30\u001b[39;49m\u001b[43m)\u001b[49m\n\u001b[1;32m     33\u001b[0m         new_rows_processed \u001b[38;5;241m=\u001b[39m \u001b[38;5;241m0\u001b[39m  \u001b[38;5;66;03m# Reset counter\u001b[39;00m\n\u001b[1;32m     36\u001b[0m \u001b[38;5;66;03m# Save the final DataFrame after processing all rows\u001b[39;00m\n",
      "\u001b[0;31mKeyboardInterrupt\u001b[0m: "
     ]
    }
   ],
   "source": [
    "import time\n",
    "\n",
    "# Initialize counter for new rows processed\n",
    "new_rows_processed = 0\n",
    "\n",
    "# Iterate over each row in the DataFrame with a progress bar\n",
    "for index, row in tqdm(df.iterrows(), total=df.shape[0], desc=\"Processing Rows\"):\n",
    "    row_processed = False  # Flag to check if we processed any new data in this row\n",
    "\n",
    "    for question_dict in all_question_dicts:\n",
    "        for column_name, question in question_dict.items():\n",
    "            # Check if the answer column is already filled\n",
    "            if pd.notnull(df.at[index, column_name]) and df.at[index, column_name] != \"\":\n",
    "                # Skip processing this row for this question\n",
    "                continue\n",
    "            combined_answer = analyze_prospectus_row_single_question(row, question)\n",
    "            df.at[index, column_name] = combined_answer\n",
    "            row_processed = True  # We processed new data in this row\n",
    "\n",
    "    if row_processed:\n",
    "        new_rows_processed += 1\n",
    "\n",
    "    # Save progress every 50 rows\n",
    "    if (index + 1) % 50 == 0:\n",
    "        df.to_csv(processed_file_path, index=False)\n",
    "        # print(f\"Progress saved at row {index + 1}\")\n",
    "\n",
    "    # After processing 10 new rows, sleep for 30 seconds\n",
    "    if new_rows_processed >= 10:\n",
    "        df.to_csv(processed_file_path, index=False)  # Save before sleeping\n",
    "        print(f\"Processed 10 new rows. Pausing for 30 seconds.\")\n",
    "        time.sleep(30)\n",
    "        new_rows_processed = 0  # Reset counter\n",
    "\n",
    "\n",
    "# Save the final DataFrame after processing all rows\n",
    "df.to_csv(processed_file_path, index=False)\n",
    "print(\"All rows have been processed and saved.\")"
   ]
  },
  {
   "cell_type": "code",
   "execution_count": null,
   "metadata": {},
   "outputs": [],
   "source": []
  },
  {
   "cell_type": "code",
   "execution_count": null,
   "metadata": {},
   "outputs": [],
   "source": []
  }
 ],
 "metadata": {
  "kernelspec": {
   "display_name": "mester_nlp_mini",
   "language": "python",
   "name": "python3"
  },
  "language_info": {
   "codemirror_mode": {
    "name": "ipython",
    "version": 3
   },
   "file_extension": ".py",
   "mimetype": "text/x-python",
   "name": "python",
   "nbconvert_exporter": "python",
   "pygments_lexer": "ipython3",
   "version": "3.10.15"
  }
 },
 "nbformat": 4,
 "nbformat_minor": 2
}
