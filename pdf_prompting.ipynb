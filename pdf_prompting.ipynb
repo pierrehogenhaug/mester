{
 "cells": [
  {
   "cell_type": "code",
   "execution_count": 9,
   "metadata": {},
   "outputs": [],
   "source": [
    "import pandas as pd\n",
    "from langchain_community.llms import Ollama\n",
    "\n",
    "llm = \"\""
   ]
  },
  {
   "cell_type": "code",
   "execution_count": 11,
   "metadata": {},
   "outputs": [
    {
     "data": {
      "text/html": [
       "<div>\n",
       "<style scoped>\n",
       "    .dataframe tbody tr th:only-of-type {\n",
       "        vertical-align: middle;\n",
       "    }\n",
       "\n",
       "    .dataframe tbody tr th {\n",
       "        vertical-align: top;\n",
       "    }\n",
       "\n",
       "    .dataframe thead th {\n",
       "        text-align: right;\n",
       "    }\n",
       "</style>\n",
       "<table border=\"1\" class=\"dataframe\">\n",
       "  <thead>\n",
       "    <tr style=\"text-align: right;\">\n",
       "      <th></th>\n",
       "      <th>Prospectus ID</th>\n",
       "      <th>Section ID</th>\n",
       "      <th>Section Title</th>\n",
       "      <th>Subsection ID</th>\n",
       "      <th>Subsection Title</th>\n",
       "      <th>Subsubsection ID</th>\n",
       "      <th>Subsubsection Title</th>\n",
       "      <th>Subsubsection Text</th>\n",
       "      <th>Market Dynamics - a</th>\n",
       "      <th>Market Dynamics - b</th>\n",
       "      <th>Market Dynamics - c</th>\n",
       "      <th>LLM Answer</th>\n",
       "      <th>Evidence Text</th>\n",
       "      <th>Parsing Error</th>\n",
       "    </tr>\n",
       "  </thead>\n",
       "  <tbody>\n",
       "    <tr>\n",
       "      <th>0</th>\n",
       "      <td>1</td>\n",
       "      <td>1</td>\n",
       "      <td>RISK FACTORS</td>\n",
       "      <td>1.1</td>\n",
       "      <td>Risks Related to the Actavis Generics Acquisition</td>\n",
       "      <td>1.1.1</td>\n",
       "      <td>If the Actavis Generics acquisition is consumm...</td>\n",
       "      <td>For the year ended December 31, 2015, our gene...</td>\n",
       "      <td>NaN</td>\n",
       "      <td>NaN</td>\n",
       "      <td>NaN</td>\n",
       "      <td>NaN</td>\n",
       "      <td>NaN</td>\n",
       "      <td>NaN</td>\n",
       "    </tr>\n",
       "    <tr>\n",
       "      <th>1</th>\n",
       "      <td>1</td>\n",
       "      <td>1</td>\n",
       "      <td>RISK FACTORS</td>\n",
       "      <td>1.1</td>\n",
       "      <td>Risks Related to the Actavis Generics Acquisition</td>\n",
       "      <td>1.1.2</td>\n",
       "      <td>We may fail to realize all of the anticipated ...</td>\n",
       "      <td>Our ability to realize the anticipated benefit...</td>\n",
       "      <td>NaN</td>\n",
       "      <td>NaN</td>\n",
       "      <td>NaN</td>\n",
       "      <td>NaN</td>\n",
       "      <td>NaN</td>\n",
       "      <td>NaN</td>\n",
       "    </tr>\n",
       "  </tbody>\n",
       "</table>\n",
       "</div>"
      ],
      "text/plain": [
       "   Prospectus ID Section ID Section Title Subsection ID  \\\n",
       "0              1          1  RISK FACTORS           1.1   \n",
       "1              1          1  RISK FACTORS           1.1   \n",
       "\n",
       "                                    Subsection Title Subsubsection ID  \\\n",
       "0  Risks Related to the Actavis Generics Acquisition            1.1.1   \n",
       "1  Risks Related to the Actavis Generics Acquisition            1.1.2   \n",
       "\n",
       "                                 Subsubsection Title  \\\n",
       "0  If the Actavis Generics acquisition is consumm...   \n",
       "1  We may fail to realize all of the anticipated ...   \n",
       "\n",
       "                                  Subsubsection Text  Market Dynamics - a  \\\n",
       "0  For the year ended December 31, 2015, our gene...                  NaN   \n",
       "1  Our ability to realize the anticipated benefit...                  NaN   \n",
       "\n",
       "   Market Dynamics - b  Market Dynamics - c  LLM Answer  Evidence Text  \\\n",
       "0                  NaN                  NaN         NaN            NaN   \n",
       "1                  NaN                  NaN         NaN            NaN   \n",
       "\n",
       "  Parsing Error  \n",
       "0           NaN  \n",
       "1           NaN  "
      ]
     },
     "execution_count": 11,
     "metadata": {},
     "output_type": "execute_result"
    }
   ],
   "source": [
    "df = pd.read_csv('./prospectuses/prospectuses_data.csv')\n",
    "df.head(2)"
   ]
  },
  {
   "cell_type": "markdown",
   "metadata": {},
   "source": [
    "### System Prompt\n",
    "You are an expert in analyzing bond prospectuses and identifying specific risk factors. Provide clear \"Yes\" or \"No\" answers to questions."
   ]
  },
  {
   "cell_type": "markdown",
   "metadata": {},
   "source": [
    "### User Prompt\n",
    "Given the following excerpt from a bond prospectus:\n",
    "\n",
    "Title: [Subsubsection Title]\n",
    "\n",
    "Text: [Subsubsection Text]\n",
    "\n",
    "Please determine whether the text indicates the presence of the following characteristics. For each, answer \"Yes\" or \"No\".\n",
    "\n",
    "a. Exposure to cyclical products\n",
    "\n",
    "b. Impact of demographic and structural trends\n",
    "\n",
    "c. Seasonal industry volatility\n",
    "\n",
    "Please provide your answer in the following JSON format:\n",
    "\n",
    "{\n",
    "  \"a\": \"Yes\" or \"No\",\n",
    "  \"b\": \"Yes\" or \"No\",\n",
    "  \"c\": \"Yes\" or \"No\"\n",
    "}"
   ]
  },
  {
   "cell_type": "code",
   "execution_count": 12,
   "metadata": {},
   "outputs": [
    {
     "name": "stderr",
     "output_type": "stream",
     "text": [
      "C:\\Users\\pih\\AppData\\Local\\Temp\\ipykernel_17620\\1555928118.py:1: LangChainDeprecationWarning: The class `Ollama` was deprecated in LangChain 0.3.1 and will be removed in 1.0.0. An updated version of the class exists in the :class:`~langchain-ollama package and should be used instead. To use it run `pip install -U :class:`~langchain-ollama` and import as `from :class:`~langchain_ollama import OllamaLLM``.\n",
      "  llm = Ollama(model=\"llama3.2\")\n"
     ]
    }
   ],
   "source": [
    "llm = Ollama(model=\"llama3.2\")"
   ]
  },
  {
   "cell_type": "code",
   "execution_count": null,
   "metadata": {},
   "outputs": [],
   "source": []
  },
  {
   "cell_type": "code",
   "execution_count": null,
   "metadata": {},
   "outputs": [],
   "source": []
  }
 ],
 "metadata": {
  "kernelspec": {
   "display_name": "mester",
   "language": "python",
   "name": "python3"
  },
  "language_info": {
   "codemirror_mode": {
    "name": "ipython",
    "version": 3
   },
   "file_extension": ".py",
   "mimetype": "text/x-python",
   "name": "python",
   "nbconvert_exporter": "python",
   "pygments_lexer": "ipython3",
   "version": "3.10.4"
  }
 },
 "nbformat": 4,
 "nbformat_minor": 2
}
